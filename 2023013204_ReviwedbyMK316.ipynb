{
  "nbformat": 4,
  "nbformat_minor": 0,
  "metadata": {
    "colab": {
      "provenance": [],
      "include_colab_link": true
    },
    "kernelspec": {
      "name": "python3",
      "display_name": "Python 3"
    },
    "language_info": {
      "name": "python"
    }
  },
  "cells": [
    {
      "cell_type": "markdown",
      "metadata": {
        "id": "view-in-github",
        "colab_type": "text"
      },
      "source": [
        "<a href=\"https://colab.research.google.com/github/skdud7669/Midterm24/blob/main/2023013204_ReviwedbyMK316.ipynb\" target=\"_parent\"><img src=\"https://colab.research.google.com/assets/colab-badge.svg\" alt=\"Open In Colab\"/></a>"
      ]
    },
    {
      "cell_type": "markdown",
      "source": [
        "#🌀 Midterm 2024: Nayoung Kim\n",
        "\n",
        "(Reviwed by MK316)"
      ],
      "metadata": {
        "id": "ms5D3DI4axl5"
      }
    },
    {
      "cell_type": "markdown",
      "source": [
        "## Name Question(😍You got it!): However, You could use input(); and punctuation is missing. 2/3"
      ],
      "metadata": {
        "id": "mvrdvCz8c6LA"
      }
    },
    {
      "cell_type": "code",
      "source": [
        "#Name question\n",
        "X = \"My name is \"\n",
        "Y = \"Nayoung Kim\"\n",
        "print(X+Y)"
      ],
      "metadata": {
        "colab": {
          "base_uri": "https://localhost:8080/"
        },
        "id": "UzKt1wdQdEs4",
        "outputId": "b35a0c2c-b74d-4751-e4bd-060e1ec22f15"
      },
      "execution_count": null,
      "outputs": [
        {
          "output_type": "stream",
          "name": "stdout",
          "text": [
            "My name is Nayoung Kim\n"
          ]
        }
      ]
    },
    {
      "cell_type": "markdown",
      "source": [
        "## Variable Question(😅Nice try! But check my code to compare.): 2/3"
      ],
      "metadata": {
        "id": "95cieuTSe_tB"
      }
    },
    {
      "cell_type": "code",
      "source": [
        "#'Mary, 1998, Ohio; and John, 1999, Boston.\n",
        "x= input();y=input();z=input()\n",
        "person= {\"name\": \"Mary\", \"born year\": 1998, \"hometown\": Ohio}\n",
        "name= person[\"name\"]\n",
        "bornyear= person[\"bornyear\"]\n",
        "city= person[\"city\"]\n",
        "print(\"Hello, my name is\" [name] \".\"), print(\"I was born in\" [born year],), print(\"and I'm from\" [hometown])\n",
        "\n"
      ],
      "metadata": {
        "colab": {
          "base_uri": "https://localhost:8080/",
          "height": 106
        },
        "id": "RdR6GrD6fElI",
        "outputId": "4b30822c-f208-4721-b795-b52a5aa33d8b"
      },
      "execution_count": 1,
      "outputs": [
        {
          "output_type": "error",
          "ename": "SyntaxError",
          "evalue": "invalid syntax. Perhaps you forgot a comma? (<ipython-input-1-5791232e799d>, line 7)",
          "traceback": [
            "\u001b[0;36m  File \u001b[0;32m\"<ipython-input-1-5791232e799d>\"\u001b[0;36m, line \u001b[0;32m7\u001b[0m\n\u001b[0;31m    print(\"Hello, my name is\" [name] \".\"), print(\"I was born in\" [born year],), print(\"and I'm from\" [hometown])\u001b[0m\n\u001b[0m          ^\u001b[0m\n\u001b[0;31mSyntaxError\u001b[0m\u001b[0;31m:\u001b[0m invalid syntax. Perhaps you forgot a comma?\n"
          ]
        }
      ]
    },
    {
      "cell_type": "markdown",
      "source": [
        "🚩 Suggested code below:"
      ],
      "metadata": {
        "id": "Xd4Fv47vOwxP"
      }
    },
    {
      "cell_type": "code",
      "source": [
        "x = input(\"Name: \") #name\n",
        "y = input(\"Born in: \") #born_in\n",
        "z = input(\"Home town: \") #hometown\n",
        "\n",
        "text = f\"Hello, my name is {x} and I was born in {y}. I'm from {z}. Nice to meet you!\"\n",
        "print(text)"
      ],
      "metadata": {
        "id": "BexkXpG4Ox_B"
      },
      "execution_count": null,
      "outputs": []
    },
    {
      "cell_type": "markdown",
      "source": [
        "## Index Question:😅 0/3"
      ],
      "metadata": {
        "id": "j7fyBYWqkV6A"
      }
    },
    {
      "cell_type": "code",
      "source": [],
      "metadata": {
        "id": "S1yKxFy8kZeo"
      },
      "execution_count": null,
      "outputs": []
    },
    {
      "cell_type": "markdown",
      "source": [
        "## GGTS Question:😅 0/3"
      ],
      "metadata": {
        "id": "0LyNWq_gk6ho"
      }
    },
    {
      "cell_type": "code",
      "source": [
        "!pip install gtts"
      ],
      "metadata": {
        "colab": {
          "base_uri": "https://localhost:8080/"
        },
        "id": "TfXDE1M3k-kw",
        "outputId": "5ce9c4aa-9894-4707-b05d-9f5dda6f2139"
      },
      "execution_count": null,
      "outputs": [
        {
          "output_type": "stream",
          "name": "stdout",
          "text": [
            "Requirement already satisfied: gtts in /usr/local/lib/python3.10/dist-packages (2.5.1)\n",
            "Requirement already satisfied: requests<3,>=2.27 in /usr/local/lib/python3.10/dist-packages (from gtts) (2.31.0)\n",
            "Requirement already satisfied: click<8.2,>=7.1 in /usr/local/lib/python3.10/dist-packages (from gtts) (8.1.7)\n",
            "Requirement already satisfied: charset-normalizer<4,>=2 in /usr/local/lib/python3.10/dist-packages (from requests<3,>=2.27->gtts) (3.3.2)\n",
            "Requirement already satisfied: idna<4,>=2.5 in /usr/local/lib/python3.10/dist-packages (from requests<3,>=2.27->gtts) (3.7)\n",
            "Requirement already satisfied: urllib3<3,>=1.21.1 in /usr/local/lib/python3.10/dist-packages (from requests<3,>=2.27->gtts) (2.0.7)\n",
            "Requirement already satisfied: certifi>=2017.4.17 in /usr/local/lib/python3.10/dist-packages (from requests<3,>=2.27->gtts) (2024.2.2)\n"
          ]
        }
      ]
    },
    {
      "cell_type": "code",
      "source": [
        "print(\"I have succeeded in this task.\")"
      ],
      "metadata": {
        "colab": {
          "base_uri": "https://localhost:8080/"
        },
        "id": "cz0KRotSmQZJ",
        "outputId": "03b16ca4-0cca-424f-9628-d8d39bf0feac"
      },
      "execution_count": null,
      "outputs": [
        {
          "output_type": "stream",
          "name": "stdout",
          "text": [
            "I have succeeded in this task.\n"
          ]
        }
      ]
    },
    {
      "cell_type": "markdown",
      "source": [
        "## Function Question (😅Nice try! But check my code to compare.)"
      ],
      "metadata": {
        "id": "RGvtrTM0mddI"
      }
    },
    {
      "cell_type": "code",
      "source": [
        "def division(x,y):\n",
        "  return x/Y\n",
        "  result = division(20,4)\n",
        "  print(\"The result of division is 5\")"
      ],
      "metadata": {
        "id": "4mZSUcVOmgyn"
      },
      "execution_count": 3,
      "outputs": []
    },
    {
      "cell_type": "markdown",
      "source": [
        "🚩 Suggested code below:"
      ],
      "metadata": {
        "id": "6jPdsaS4PN_s"
      }
    },
    {
      "cell_type": "code",
      "source": [
        "def divide_numbers(num1, num2):\n",
        "    result = num1 / num2\n",
        "    return result  # This will provide the result in the output. So, no need to use print()\n",
        "\n",
        "divide_numbers(20, 4)"
      ],
      "metadata": {
        "id": "bRVjMoVLm30Y"
      },
      "execution_count": null,
      "outputs": []
    },
    {
      "cell_type": "markdown",
      "source": [
        "---\n",
        "The END"
      ],
      "metadata": {
        "id": "gnyrWf_IPivU"
      }
    }
  ]
}